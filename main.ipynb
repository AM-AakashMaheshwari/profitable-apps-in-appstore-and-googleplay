{
 "cells": [
  {
   "cell_type": "markdown",
   "id": "df3fda7e",
   "metadata": {},
   "source": [
    "# Reading data from files"
   ]
  },
  {
   "cell_type": "code",
   "execution_count": 9,
   "id": "61605cef",
   "metadata": {},
   "outputs": [],
   "source": [
    "from csv import reader\n",
    "\n",
    "file = open('Data\\\\AppleStore.csv', encoding='utf-8')\n",
    "read_file = reader(file)\n",
    "\n",
    "#creating a list of lists \n",
    "appstore_list = list(read_file)\n",
    "\n",
    "#getting header and data in different variables\n",
    "appstore_data_header = appstore_list[0]\n",
    "appstore_data = appstore_list[1:]"
   ]
  },
  {
   "cell_type": "code",
   "execution_count": 18,
   "id": "c9fc6188",
   "metadata": {},
   "outputs": [],
   "source": [
    "from csv import reader\n",
    "\n",
    "file = open('Data\\\\googleplaystore.csv', encoding='utf-8')\n",
    "read_file = reader(file)\n",
    "\n",
    "#creating a list of lists \n",
    "playstore_list = list(read_file)\n",
    "\n",
    "#getting header and data in different variables\n",
    "playstore_data_header = playstore_list[0]\n",
    "playstore_data = playstore_list[1:]"
   ]
  },
  {
   "cell_type": "markdown",
   "id": "bca7d9dc",
   "metadata": {},
   "source": [
    "## Explore the dataset"
   ]
  },
  {
   "cell_type": "code",
   "execution_count": 10,
   "id": "283505d2",
   "metadata": {},
   "outputs": [],
   "source": [
    "def explore_data(dataset, start, end, rows_and_columns=False):\n",
    "    dataset_slice = dataset[start:end]\n",
    "    for row in dataset_slice:\n",
    "        print(row)\n",
    "        print('\\n') # adds a new (empty) line between rows\n",
    "\n",
    "    if rows_and_columns:\n",
    "        print('Number of rows:', len(dataset))\n",
    "        print('Number of columns:', len(dataset[0]))"
   ]
  },
  {
   "cell_type": "code",
   "execution_count": null,
   "id": "94cd1cae",
   "metadata": {},
   "outputs": [],
   "source": [
    "print(appstore_data_header)\n",
    "appstore = explore_data(appstore_data,1,5,False)\n"
   ]
  },
  {
   "cell_type": "code",
   "execution_count": null,
   "id": "39f7e75b",
   "metadata": {},
   "outputs": [],
   "source": [
    "print(playstore_data_header)\n",
    "playstore = explore_data(playstore_list,1,5,True)"
   ]
  },
  {
   "cell_type": "markdown",
   "id": "6ba64874",
   "metadata": {},
   "source": [
    "### Detect Inaccurate Data and remove it"
   ]
  },
  {
   "cell_type": "code",
   "execution_count": 22,
   "id": "a6eb1a69",
   "metadata": {},
   "outputs": [
    {
     "data": {
      "text/plain": [
       "['Life Made WI-Fi Touchscreen Photo Frame',\n",
       " '1.9',\n",
       " '19',\n",
       " '3.0M',\n",
       " '1,000+',\n",
       " 'Free',\n",
       " '0',\n",
       " 'Everyone',\n",
       " '',\n",
       " 'February 11, 2018',\n",
       " '1.0.19',\n",
       " '4.0 and up']"
      ]
     },
     "execution_count": 22,
     "metadata": {},
     "output_type": "execute_result"
    }
   ],
   "source": [
    "playstore_data[10472]"
   ]
  },
  {
   "cell_type": "code",
   "execution_count": 23,
   "id": "3981ee0e",
   "metadata": {},
   "outputs": [],
   "source": [
    "del playstore_data[10472]"
   ]
  },
  {
   "cell_type": "code",
   "execution_count": 24,
   "id": "cc3a84f6",
   "metadata": {},
   "outputs": [
    {
     "name": "stdout",
     "output_type": "stream",
     "text": [
      "Number of duplicate apps: 1181\n"
     ]
    }
   ],
   "source": [
    "duplicate_app=[]\n",
    "unique_apps=[]\n",
    "\n",
    "for app in playstore_data:\n",
    "    name=app[0]\n",
    "    if name in unique_apps:\n",
    "        duplicate_app.append(name)\n",
    "    else:\n",
    "        unique_apps.append(name)\n",
    "\n",
    "print(\"Number of duplicate apps:\" , len(duplicate_app))\n",
    "    "
   ]
  },
  {
   "cell_type": "code",
   "execution_count": 25,
   "id": "41bfddff",
   "metadata": {},
   "outputs": [
    {
     "data": {
      "text/plain": [
       "['App',\n",
       " 'Category',\n",
       " 'Rating',\n",
       " 'Reviews',\n",
       " 'Size',\n",
       " 'Installs',\n",
       " 'Type',\n",
       " 'Price',\n",
       " 'Content Rating',\n",
       " 'Genres',\n",
       " 'Last Updated',\n",
       " 'Current Ver',\n",
       " 'Android Ver']"
      ]
     },
     "execution_count": 25,
     "metadata": {},
     "output_type": "execute_result"
    }
   ],
   "source": [
    "playstore_data_header"
   ]
  },
  {
   "cell_type": "code",
   "execution_count": 28,
   "id": "2d0222e9",
   "metadata": {},
   "outputs": [
    {
     "name": "stdout",
     "output_type": "stream",
     "text": [
      "['Coloring book moana', 'ART_AND_DESIGN', '3.9', '967', '14M', '500,000+', 'Free', '0', 'Everyone', 'Art & Design;Pretend Play', 'January 15, 2018', '2.0.0', '4.0.3 and up']\n",
      "\n",
      "\n",
      "['U Launcher Lite – FREE Live Cool Themes, Hide Apps', 'ART_AND_DESIGN', '4.7', '87510', '8.7M', '5,000,000+', 'Free', '0', 'Everyone', 'Art & Design', 'August 1, 2018', '1.2.4', '4.0.3 and up']\n",
      "\n",
      "\n",
      "['Sketch - Draw & Paint', 'ART_AND_DESIGN', '4.5', '215644', '25M', '50,000,000+', 'Free', '0', 'Teen', 'Art & Design', 'June 8, 2018', 'Varies with device', '4.2 and up']\n",
      "\n",
      "\n",
      "Number of rows: 10840\n",
      "Number of columns: 13\n"
     ]
    }
   ],
   "source": [
    "explore_data(playstore_data,1,4,True)"
   ]
  },
  {
   "cell_type": "code",
   "execution_count": 30,
   "metadata": {},
   "outputs": [
    {
     "name": "stdout",
     "output_type": "stream",
     "text": [
      "9659\n"
     ]
    }
   ],
   "source": [
    "reviews_max={}\n",
    "for row in playstore_data:\n",
    "    name=row[0]\n",
    "    n_reviews=float(row[3])\n",
    "    if name in reviews_max and reviews_max[name]<n_reviews:\n",
    "        reviews_max[name]=n_reviews\n",
    "    elif name not in reviews_max:\n",
    "        reviews_max[name]=n_reviews\n",
    "\n",
    "print(len(reviews_max))"
   ]
  },
  {
   "cell_type": "code",
   "execution_count": null,
   "id": "5bc26ef3",
   "metadata": {},
   "outputs": [],
   "source": []
  }
 ],
 "metadata": {
  "kernelspec": {
   "display_name": "profitableapps.venv (3.12.0)",
   "language": "python",
   "name": "python3"
  },
  "language_info": {
   "codemirror_mode": {
    "name": "ipython",
    "version": 3
   },
   "file_extension": ".py",
   "mimetype": "text/x-python",
   "name": "python",
   "nbconvert_exporter": "python",
   "pygments_lexer": "ipython3",
   "version": "3.12.0b4"
  }
 },
 "nbformat": 4,
 "nbformat_minor": 5
}
